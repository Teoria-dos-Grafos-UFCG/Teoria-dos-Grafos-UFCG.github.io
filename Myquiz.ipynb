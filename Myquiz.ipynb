{
  "nbformat": 4,
  "nbformat_minor": 0,
  "metadata": {
    "colab": {
      "provenance": []
    },
    "kernelspec": {
      "name": "python3",
      "display_name": "Python 3"
    },
    "language_info": {
      "name": "python"
    }
  },
  "cells": [
    {
      "cell_type": "code",
      "execution_count": null,
      "metadata": {
        "id": "FBq-q0uiSjep"
      },
      "outputs": [],
      "source": [
        "#@title Texto de título padrão\n",
        "variable_name = \"a\" #@param [\"a\"]\n",
        "#@markdown\n"
      ]
    },
    {
      "cell_type": "code",
      "source": [],
      "metadata": {
        "id": "pSC278e9Sq1Y"
      },
      "execution_count": null,
      "outputs": []
    }
  ]
}